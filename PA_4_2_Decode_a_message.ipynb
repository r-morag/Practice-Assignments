{
  "cells": [
    {
      "cell_type": "markdown",
      "metadata": {
        "id": "kPj76X_FP2uq"
      },
      "source": [
        "## Setup\n",
        "\n",
        "Run the code below to load the scrambled message:\n"
      ]
    },
    {
      "cell_type": "code",
      "execution_count": 253,
      "metadata": {
        "id": "YwkYMR2qP2ur"
      },
      "outputs": [],
      "source": [
        "import pandas as pd\n",
        "\n",
        "message = pd.read_csv(\"https://www.dropbox.com/s/lgpn3vmksk3ssdo/scrambled_message.txt?dl=1\")['Word']"
      ]
    },
    {
      "cell_type": "code",
      "execution_count": 254,
      "metadata": {
        "colab": {
          "base_uri": "https://localhost:8080/"
        },
        "id": "rqykaCOxF1Z9",
        "outputId": "78651d97-c46b-4c24-b5e9-f67ae6a0ea1c"
      },
      "outputs": [
        {
          "data": {
            "text/plain": [
              "0                    Koila!\n",
              "1                     In   \n",
              "2                     kiew,\n",
              "3                         a\n",
              "4                 humble   \n",
              "               ...         \n",
              "122                     you\n",
              "123                 mabugh.\n",
              "124              ughhh?call\n",
              "125        meugh.ughhhh!   \n",
              "126                      K.\n",
              "Name: Word, Length: 127, dtype: object"
            ]
          },
          "execution_count": null,
          "metadata": {},
          "output_type": "execute_result"
        }
      ],
      "source": [
        "message"
      ]
    },
    {
      "cell_type": "markdown",
      "metadata": {
        "id": "cI8ZE3LAP2us"
      },
      "source": [
        "In this activity, a \"word\" refers to any set of characters with no white space, even though they are not truly an English word.  That is, even though many of elements of the scrambled message vector are nonsense, and some have punctuation, you can consider each element to be a \"word\".\n",
        "\n",
        "Beware!  The object named `message` is a **pandas Series** of strings.  If you want to use functions that expect a string, rather than a series, remember `.apply()` and `lambda` functions.\n",
        "\n"
      ]
    },
    {
      "cell_type": "markdown",
      "metadata": {
        "id": "dYISAD8uQLAy"
      },
      "source": [
        "\n",
        "## Warm-up exercises\n",
        "\n",
        "1. How many characters are in the scrambled message?\n",
        "2. How many of these characters are white space?\n",
        "3. How many words are in the scrambled message?\n",
        "4. Show all the punctuation marks in the scrambled message.\n",
        "5. Print out, in all capitals, the longest word in the scrambled message.\n",
        "6. Print out every piece of a word that starts with the letter \"m\" and ends with the letter \"z\" in the scrambled message."
      ]
    },
    {
      "cell_type": "code",
      "execution_count": 255,
      "metadata": {
        "id": "6vB1tbjiQNvE"
      },
      "outputs": [
        {
          "data": {
            "text/plain": [
              "2544"
            ]
          },
          "execution_count": null,
          "metadata": {},
          "output_type": "execute_result"
        }
      ],
      "source": [
        "total_characters = message.apply(len).sum()\n",
        "total_characters"
      ]
    },
    {
      "cell_type": "code",
      "execution_count": 256,
      "metadata": {},
      "outputs": [
        {
          "data": {
            "text/plain": [
              "1652"
            ]
          },
          "execution_count": null,
          "metadata": {},
          "output_type": "execute_result"
        }
      ],
      "source": [
        "total_spaces = message.apply(lambda x: x.count(\" \")).sum()\n",
        "total_spaces"
      ]
    },
    {
      "cell_type": "code",
      "execution_count": 257,
      "metadata": {},
      "outputs": [
        {
          "data": {
            "text/plain": [
              "127"
            ]
          },
          "execution_count": null,
          "metadata": {},
          "output_type": "execute_result"
        }
      ],
      "source": [
        "total_words = message.apply(lambda x: len(x.split())).sum()\n",
        "total_words"
      ]
    },
    {
      "cell_type": "code",
      "execution_count": 258,
      "metadata": {},
      "outputs": [
        {
          "data": {
            "text/plain": [
              "'!,?,!!.!,!?????,?!,.?,,!.!?!!,.???.??..;?,!!,.?.?.!!.!!?,!?.!!!.?.!.'"
            ]
          },
          "execution_count": null,
          "metadata": {},
          "output_type": "execute_result"
        }
      ],
      "source": [
        "import re\n",
        "\n",
        "extract_punctuation = lambda x: \"\".join(re.findall(r\"[^\\w\\s]\", x))\n",
        "\n",
        "all_punctuation = \"\".join(message.apply(extract_punctuation))\n",
        "all_punctuation"
      ]
    },
    {
      "cell_type": "code",
      "execution_count": 259,
      "metadata": {},
      "outputs": [
        {
          "data": {
            "text/plain": [
              "'KAUDEVILLIANUGH?AOGHAJDBN'"
            ]
          },
          "execution_count": null,
          "metadata": {},
          "output_type": "execute_result"
        }
      ],
      "source": [
        "all_words = sum(message.str.split(), [])\n",
        "longest_word = max(all_words, key=len)\n",
        "longest_word.upper()"
      ]
    },
    {
      "cell_type": "code",
      "execution_count": 260,
      "metadata": {},
      "outputs": [
        {
          "data": {
            "text/plain": [
              "['maaz']"
            ]
          },
          "execution_count": null,
          "metadata": {},
          "output_type": "execute_result"
        }
      ],
      "source": [
        "find_mz_words = lambda x: re.findall(r\"\\bm\\w*z\\b\", x)\n",
        "mz_words = sum(message.apply(find_mz_words), [])\n",
        "\n",
        "mz_words"
      ]
    },
    {
      "cell_type": "markdown",
      "metadata": {
        "id": "l3iJnnCJQOh7"
      },
      "source": [
        "\n",
        "\n",
        "## Decode a message\n",
        "\n",
        "Complete the following steps to decode the message.  \n",
        "\n",
        "1. Remove any spaces before or after each word.\n",
        "2. Any time you see the word \"ugh\", with any number of h's, followed by a punctuation mark, delete this.\n",
        "3. No word should be longer than 16 characters. Drop all extra characters beyond 13 off the end of each word.\n",
        "4. Replace all instances of exactly 2 a's with exactly 2 e's.\n",
        "5. Replace all z's with t's.\n",
        "6. Every word that ends in b, change that to a y.  *Hint: look out for punctuation!*\n",
        "7. Every word that starts with k, change that to a v.  *Hint: look out for capitalization!*\n",
        "8. Use `.join()` to recombine all your words into a message.\n",
        "9. Find the movie this quote is from."
      ]
    },
    {
      "cell_type": "code",
      "execution_count": 261,
      "metadata": {
        "id": "RRfjUzxMQQ5j"
      },
      "outputs": [],
      "source": [
        "# Step 1\n",
        "\n",
        "stripped_message = message.apply(lambda x: x.strip())"
      ]
    },
    {
      "cell_type": "code",
      "execution_count": 262,
      "metadata": {},
      "outputs": [],
      "source": [
        "# Step 2\n",
        "no_ugh = [re.sub(r\"ugh+h*[.,;!?]*+\", \"\", word) for word in stripped_message]"
      ]
    },
    {
      "cell_type": "code",
      "execution_count": 263,
      "metadata": {},
      "outputs": [],
      "source": [
        "# Step 3\n",
        "\n",
        "max_13 = [word[:12] for word in no_ugh]"
      ]
    },
    {
      "cell_type": "code",
      "execution_count": 264,
      "metadata": {},
      "outputs": [],
      "source": [
        "no_aa = [re.sub(r\"(?<!a)aa(?!a)\", \"ee\", word) for word in max_13]"
      ]
    },
    {
      "cell_type": "code",
      "execution_count": 265,
      "metadata": {},
      "outputs": [],
      "source": [
        "no_z = [word.replace(\"z\", \"t\") for word in no_aa]"
      ]
    },
    {
      "cell_type": "code",
      "execution_count": 266,
      "metadata": {},
      "outputs": [],
      "source": [
        "ends_y = [re.sub(r\"(\\w*)b$\", r\"\\1y\", word) for word in no_z]"
      ]
    },
    {
      "cell_type": "code",
      "execution_count": 267,
      "metadata": {},
      "outputs": [],
      "source": [
        "starts_v = [re.sub(r\"\\b([kK])(\\w*)\", r\"V\\2\", word) for word in ends_y]"
      ]
    },
    {
      "cell_type": "code",
      "execution_count": 268,
      "metadata": {},
      "outputs": [
        {
          "data": {
            "text/plain": [
              "'Voila! In View, a humble Vaudevillian Veteran, cast Vicariously as both Victim and Villain by the Vicissitudes of fate. This Visage, no mere Veneer of Vanity, is a Vestige of the Vox populi now Vacant, Vanished. However, this Valorous Visitation of a bygone Vexation stands Vivified, and has Vowed to Vanquish these Venal and Virulent Vermin, Van guarding Vice and Vouchsafing the Violently Vicious and Voracious Violation of Volition. The only Verdict is Vengeance; a Vendetta, held as a Votive not in Vain, for the Value and Veracity of such shall one day Vindicate the Vigilant and the Virtuous. Verily this Vichyssoise of Verbiage Veers most Verbose, so let me simply add that its my Very good honour to meet you and you may call me V.'"
            ]
          },
          "execution_count": null,
          "metadata": {},
          "output_type": "execute_result"
        }
      ],
      "source": [
        "final_message = \" \".join(starts_v)\n",
        "final_message"
      ]
    }
  ],
  "metadata": {
    "colab": {
      "provenance": []
    },
    "kernelspec": {
      "display_name": "Python 3",
      "language": "python",
      "name": "python3"
    },
    "language_info": {
      "name": "python"
    }
  },
  "nbformat": 4,
  "nbformat_minor": 0
}
