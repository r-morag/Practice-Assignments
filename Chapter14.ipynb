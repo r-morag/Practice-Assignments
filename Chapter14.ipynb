{
  "cells": [
    {
      "cell_type": "code",
      "execution_count": 1,
      "metadata": {
        "id": "BsEN4Mw9lINc"
      },
      "outputs": [],
      "source": [
        "import pandas as pd\n",
        "import numpy as np\n",
        "from sklearn.pipeline import Pipeline\n",
        "from sklearn.compose import make_column_selector, ColumnTransformer\n",
        "from sklearn.preprocessing import StandardScaler, OneHotEncoder, PolynomialFeatures\n",
        "from sklearn.linear_model import LinearRegression, Ridge, Lasso, ElasticNet\n",
        "from sklearn.model_selection import train_test_split, cross_val_score\n",
        "from sklearn.metrics import r2_score\n",
        "from sklearn.model_selection import GridSearchCV"
      ]
    },
    {
      "cell_type": "code",
      "execution_count": 2,
      "metadata": {
        "id": "NMSo4enNk6U9"
      },
      "outputs": [
        {
          "ename": "FileNotFoundError",
          "evalue": "[Errno 2] No such file or directory: 'AmesHousing.csv'",
          "output_type": "error",
          "traceback": [
            "\u001b[1;31m---------------------------------------------------------------------------\u001b[0m\n",
            "\u001b[1;31mFileNotFoundError\u001b[0m                         Traceback (most recent call last)\n",
            "Cell \u001b[1;32mIn[2], line 1\u001b[0m\n",
            "\u001b[1;32m----> 1\u001b[0m ames \u001b[38;5;241m=\u001b[39m pd\u001b[38;5;241m.\u001b[39mread_csv(\u001b[38;5;124m\"\u001b[39m\u001b[38;5;124mAmesHousing.csv\u001b[39m\u001b[38;5;124m\"\u001b[39m)\n",
            "\u001b[0;32m      3\u001b[0m good_cols \u001b[38;5;241m=\u001b[39m ames\u001b[38;5;241m.\u001b[39misna()\u001b[38;5;241m.\u001b[39msum() \u001b[38;5;241m<\u001b[39m \u001b[38;5;241m100\u001b[39m\n",
            "\u001b[0;32m      4\u001b[0m ames \u001b[38;5;241m=\u001b[39m ames\u001b[38;5;241m.\u001b[39mloc[:,good_cols]\n",
            "\n",
            "File \u001b[1;32m~\\anaconda3\\Lib\\site-packages\\pandas\\io\\parsers\\readers.py:948\u001b[0m, in \u001b[0;36mread_csv\u001b[1;34m(filepath_or_buffer, sep, delimiter, header, names, index_col, usecols, dtype, engine, converters, true_values, false_values, skipinitialspace, skiprows, skipfooter, nrows, na_values, keep_default_na, na_filter, verbose, skip_blank_lines, parse_dates, infer_datetime_format, keep_date_col, date_parser, date_format, dayfirst, cache_dates, iterator, chunksize, compression, thousands, decimal, lineterminator, quotechar, quoting, doublequote, escapechar, comment, encoding, encoding_errors, dialect, on_bad_lines, delim_whitespace, low_memory, memory_map, float_precision, storage_options, dtype_backend)\u001b[0m\n",
            "\u001b[0;32m    935\u001b[0m kwds_defaults \u001b[38;5;241m=\u001b[39m _refine_defaults_read(\n",
            "\u001b[0;32m    936\u001b[0m     dialect,\n",
            "\u001b[0;32m    937\u001b[0m     delimiter,\n",
            "\u001b[1;32m   (...)\u001b[0m\n",
            "\u001b[0;32m    944\u001b[0m     dtype_backend\u001b[38;5;241m=\u001b[39mdtype_backend,\n",
            "\u001b[0;32m    945\u001b[0m )\n",
            "\u001b[0;32m    946\u001b[0m kwds\u001b[38;5;241m.\u001b[39mupdate(kwds_defaults)\n",
            "\u001b[1;32m--> 948\u001b[0m \u001b[38;5;28;01mreturn\u001b[39;00m _read(filepath_or_buffer, kwds)\n",
            "\n",
            "File \u001b[1;32m~\\anaconda3\\Lib\\site-packages\\pandas\\io\\parsers\\readers.py:611\u001b[0m, in \u001b[0;36m_read\u001b[1;34m(filepath_or_buffer, kwds)\u001b[0m\n",
            "\u001b[0;32m    608\u001b[0m _validate_names(kwds\u001b[38;5;241m.\u001b[39mget(\u001b[38;5;124m\"\u001b[39m\u001b[38;5;124mnames\u001b[39m\u001b[38;5;124m\"\u001b[39m, \u001b[38;5;28;01mNone\u001b[39;00m))\n",
            "\u001b[0;32m    610\u001b[0m \u001b[38;5;66;03m# Create the parser.\u001b[39;00m\n",
            "\u001b[1;32m--> 611\u001b[0m parser \u001b[38;5;241m=\u001b[39m TextFileReader(filepath_or_buffer, \u001b[38;5;241m*\u001b[39m\u001b[38;5;241m*\u001b[39mkwds)\n",
            "\u001b[0;32m    613\u001b[0m \u001b[38;5;28;01mif\u001b[39;00m chunksize \u001b[38;5;129;01mor\u001b[39;00m iterator:\n",
            "\u001b[0;32m    614\u001b[0m     \u001b[38;5;28;01mreturn\u001b[39;00m parser\n",
            "\n",
            "File \u001b[1;32m~\\anaconda3\\Lib\\site-packages\\pandas\\io\\parsers\\readers.py:1448\u001b[0m, in \u001b[0;36mTextFileReader.__init__\u001b[1;34m(self, f, engine, **kwds)\u001b[0m\n",
            "\u001b[0;32m   1445\u001b[0m     \u001b[38;5;28mself\u001b[39m\u001b[38;5;241m.\u001b[39moptions[\u001b[38;5;124m\"\u001b[39m\u001b[38;5;124mhas_index_names\u001b[39m\u001b[38;5;124m\"\u001b[39m] \u001b[38;5;241m=\u001b[39m kwds[\u001b[38;5;124m\"\u001b[39m\u001b[38;5;124mhas_index_names\u001b[39m\u001b[38;5;124m\"\u001b[39m]\n",
            "\u001b[0;32m   1447\u001b[0m \u001b[38;5;28mself\u001b[39m\u001b[38;5;241m.\u001b[39mhandles: IOHandles \u001b[38;5;241m|\u001b[39m \u001b[38;5;28;01mNone\u001b[39;00m \u001b[38;5;241m=\u001b[39m \u001b[38;5;28;01mNone\u001b[39;00m\n",
            "\u001b[1;32m-> 1448\u001b[0m \u001b[38;5;28mself\u001b[39m\u001b[38;5;241m.\u001b[39m_engine \u001b[38;5;241m=\u001b[39m \u001b[38;5;28mself\u001b[39m\u001b[38;5;241m.\u001b[39m_make_engine(f, \u001b[38;5;28mself\u001b[39m\u001b[38;5;241m.\u001b[39mengine)\n",
            "\n",
            "File \u001b[1;32m~\\anaconda3\\Lib\\site-packages\\pandas\\io\\parsers\\readers.py:1705\u001b[0m, in \u001b[0;36mTextFileReader._make_engine\u001b[1;34m(self, f, engine)\u001b[0m\n",
            "\u001b[0;32m   1703\u001b[0m     \u001b[38;5;28;01mif\u001b[39;00m \u001b[38;5;124m\"\u001b[39m\u001b[38;5;124mb\u001b[39m\u001b[38;5;124m\"\u001b[39m \u001b[38;5;129;01mnot\u001b[39;00m \u001b[38;5;129;01min\u001b[39;00m mode:\n",
            "\u001b[0;32m   1704\u001b[0m         mode \u001b[38;5;241m+\u001b[39m\u001b[38;5;241m=\u001b[39m \u001b[38;5;124m\"\u001b[39m\u001b[38;5;124mb\u001b[39m\u001b[38;5;124m\"\u001b[39m\n",
            "\u001b[1;32m-> 1705\u001b[0m \u001b[38;5;28mself\u001b[39m\u001b[38;5;241m.\u001b[39mhandles \u001b[38;5;241m=\u001b[39m get_handle(\n",
            "\u001b[0;32m   1706\u001b[0m     f,\n",
            "\u001b[0;32m   1707\u001b[0m     mode,\n",
            "\u001b[0;32m   1708\u001b[0m     encoding\u001b[38;5;241m=\u001b[39m\u001b[38;5;28mself\u001b[39m\u001b[38;5;241m.\u001b[39moptions\u001b[38;5;241m.\u001b[39mget(\u001b[38;5;124m\"\u001b[39m\u001b[38;5;124mencoding\u001b[39m\u001b[38;5;124m\"\u001b[39m, \u001b[38;5;28;01mNone\u001b[39;00m),\n",
            "\u001b[0;32m   1709\u001b[0m     compression\u001b[38;5;241m=\u001b[39m\u001b[38;5;28mself\u001b[39m\u001b[38;5;241m.\u001b[39moptions\u001b[38;5;241m.\u001b[39mget(\u001b[38;5;124m\"\u001b[39m\u001b[38;5;124mcompression\u001b[39m\u001b[38;5;124m\"\u001b[39m, \u001b[38;5;28;01mNone\u001b[39;00m),\n",
            "\u001b[0;32m   1710\u001b[0m     memory_map\u001b[38;5;241m=\u001b[39m\u001b[38;5;28mself\u001b[39m\u001b[38;5;241m.\u001b[39moptions\u001b[38;5;241m.\u001b[39mget(\u001b[38;5;124m\"\u001b[39m\u001b[38;5;124mmemory_map\u001b[39m\u001b[38;5;124m\"\u001b[39m, \u001b[38;5;28;01mFalse\u001b[39;00m),\n",
            "\u001b[0;32m   1711\u001b[0m     is_text\u001b[38;5;241m=\u001b[39mis_text,\n",
            "\u001b[0;32m   1712\u001b[0m     errors\u001b[38;5;241m=\u001b[39m\u001b[38;5;28mself\u001b[39m\u001b[38;5;241m.\u001b[39moptions\u001b[38;5;241m.\u001b[39mget(\u001b[38;5;124m\"\u001b[39m\u001b[38;5;124mencoding_errors\u001b[39m\u001b[38;5;124m\"\u001b[39m, \u001b[38;5;124m\"\u001b[39m\u001b[38;5;124mstrict\u001b[39m\u001b[38;5;124m\"\u001b[39m),\n",
            "\u001b[0;32m   1713\u001b[0m     storage_options\u001b[38;5;241m=\u001b[39m\u001b[38;5;28mself\u001b[39m\u001b[38;5;241m.\u001b[39moptions\u001b[38;5;241m.\u001b[39mget(\u001b[38;5;124m\"\u001b[39m\u001b[38;5;124mstorage_options\u001b[39m\u001b[38;5;124m\"\u001b[39m, \u001b[38;5;28;01mNone\u001b[39;00m),\n",
            "\u001b[0;32m   1714\u001b[0m )\n",
            "\u001b[0;32m   1715\u001b[0m \u001b[38;5;28;01massert\u001b[39;00m \u001b[38;5;28mself\u001b[39m\u001b[38;5;241m.\u001b[39mhandles \u001b[38;5;129;01mis\u001b[39;00m \u001b[38;5;129;01mnot\u001b[39;00m \u001b[38;5;28;01mNone\u001b[39;00m\n",
            "\u001b[0;32m   1716\u001b[0m f \u001b[38;5;241m=\u001b[39m \u001b[38;5;28mself\u001b[39m\u001b[38;5;241m.\u001b[39mhandles\u001b[38;5;241m.\u001b[39mhandle\n",
            "\n",
            "File \u001b[1;32m~\\anaconda3\\Lib\\site-packages\\pandas\\io\\common.py:863\u001b[0m, in \u001b[0;36mget_handle\u001b[1;34m(path_or_buf, mode, encoding, compression, memory_map, is_text, errors, storage_options)\u001b[0m\n",
            "\u001b[0;32m    858\u001b[0m \u001b[38;5;28;01melif\u001b[39;00m \u001b[38;5;28misinstance\u001b[39m(handle, \u001b[38;5;28mstr\u001b[39m):\n",
            "\u001b[0;32m    859\u001b[0m     \u001b[38;5;66;03m# Check whether the filename is to be opened in binary mode.\u001b[39;00m\n",
            "\u001b[0;32m    860\u001b[0m     \u001b[38;5;66;03m# Binary mode does not support 'encoding' and 'newline'.\u001b[39;00m\n",
            "\u001b[0;32m    861\u001b[0m     \u001b[38;5;28;01mif\u001b[39;00m ioargs\u001b[38;5;241m.\u001b[39mencoding \u001b[38;5;129;01mand\u001b[39;00m \u001b[38;5;124m\"\u001b[39m\u001b[38;5;124mb\u001b[39m\u001b[38;5;124m\"\u001b[39m \u001b[38;5;129;01mnot\u001b[39;00m \u001b[38;5;129;01min\u001b[39;00m ioargs\u001b[38;5;241m.\u001b[39mmode:\n",
            "\u001b[0;32m    862\u001b[0m         \u001b[38;5;66;03m# Encoding\u001b[39;00m\n",
            "\u001b[1;32m--> 863\u001b[0m         handle \u001b[38;5;241m=\u001b[39m \u001b[38;5;28mopen\u001b[39m(\n",
            "\u001b[0;32m    864\u001b[0m             handle,\n",
            "\u001b[0;32m    865\u001b[0m             ioargs\u001b[38;5;241m.\u001b[39mmode,\n",
            "\u001b[0;32m    866\u001b[0m             encoding\u001b[38;5;241m=\u001b[39mioargs\u001b[38;5;241m.\u001b[39mencoding,\n",
            "\u001b[0;32m    867\u001b[0m             errors\u001b[38;5;241m=\u001b[39merrors,\n",
            "\u001b[0;32m    868\u001b[0m             newline\u001b[38;5;241m=\u001b[39m\u001b[38;5;124m\"\u001b[39m\u001b[38;5;124m\"\u001b[39m,\n",
            "\u001b[0;32m    869\u001b[0m         )\n",
            "\u001b[0;32m    870\u001b[0m     \u001b[38;5;28;01melse\u001b[39;00m:\n",
            "\u001b[0;32m    871\u001b[0m         \u001b[38;5;66;03m# Binary mode\u001b[39;00m\n",
            "\u001b[0;32m    872\u001b[0m         handle \u001b[38;5;241m=\u001b[39m \u001b[38;5;28mopen\u001b[39m(handle, ioargs\u001b[38;5;241m.\u001b[39mmode)\n",
            "\n",
            "\u001b[1;31mFileNotFoundError\u001b[0m: [Errno 2] No such file or directory: 'AmesHousing.csv'"
          ]
        }
      ],
      "source": [
        "ames = pd.read_csv(\"AmesHousing.csv\")\n",
        "\n",
        "good_cols = ames.isna().sum() < 100\n",
        "ames = ames.loc[:,good_cols]\n",
        "\n",
        "ames = ames.dropna()"
      ]
    },
    {
      "cell_type": "code",
      "execution_count": null,
      "metadata": {
        "id": "zsBqdkNZlPfU"
      },
      "outputs": [],
      "source": [
        "X = ames.drop([\"SalePrice\", \"Order\", \"PID\"], axis = 1)\n",
        "y = ames[\"SalePrice\"]\n",
        "\n",
        "\n",
        "ct = ColumnTransformer(\n",
        "  [\n",
        "    (\"dummify\",\n",
        "    OneHotEncoder(sparse_output = False, handle_unknown='ignore'),\n",
        "    make_column_selector(dtype_include=object)),\n",
        "    (\"standardize\",\n",
        "    StandardScaler(),\n",
        "    make_column_selector(dtype_include=np.number))\n",
        "  ],\n",
        "  remainder = \"passthrough\"\n",
        ")\n",
        "\n",
        "lr_pipeline_1 = Pipeline(\n",
        "  [(\"preprocessing\", ct),\n",
        "  (\"linear_regression\", Ridge(alpha=1))]\n",
        ")"
      ]
    },
    {
      "cell_type": "code",
      "execution_count": 3,
      "metadata": {
        "colab": {
          "base_uri": "https://localhost:8080/"
        },
        "id": "_ToahYGXlXfA",
        "outputId": "93745750-8c20-4238-eb71-716b991e4d0d"
      },
      "outputs": [
        {
          "ename": "NameError",
          "evalue": "name 'lr_pipeline_1' is not defined",
          "output_type": "error",
          "traceback": [
            "\u001b[1;31m---------------------------------------------------------------------------\u001b[0m\n",
            "\u001b[1;31mNameError\u001b[0m                                 Traceback (most recent call last)\n",
            "Cell \u001b[1;32mIn[3], line 1\u001b[0m\n",
            "\u001b[1;32m----> 1\u001b[0m cross_val_score(lr_pipeline_1, X, y, cv \u001b[38;5;241m=\u001b[39m \u001b[38;5;241m5\u001b[39m, scoring \u001b[38;5;241m=\u001b[39m \u001b[38;5;124m'\u001b[39m\u001b[38;5;124mr2\u001b[39m\u001b[38;5;124m'\u001b[39m)\n",
            "\n",
            "\u001b[1;31mNameError\u001b[0m: name 'lr_pipeline_1' is not defined"
          ]
        }
      ],
      "source": [
        "cross_val_score(lr_pipeline_1, X, y, cv = 5, scoring = 'r2')"
      ]
    },
    {
      "cell_type": "code",
      "execution_count": null,
      "metadata": {
        "id": "w78lp1X4lw6i"
      },
      "outputs": [],
      "source": [
        "ct = ColumnTransformer(\n",
        "  [\n",
        "    (\"dummify\",\n",
        "    OneHotEncoder(sparse_output = False, handle_unknown='ignore'),\n",
        "    make_column_selector(dtype_include=object)),\n",
        "    (\"standardize\",\n",
        "    StandardScaler(),\n",
        "    make_column_selector(dtype_include=np.number))\n",
        "  ],\n",
        "  remainder = \"passthrough\"\n",
        ")\n",
        "\n",
        "lr_pipeline_1 = Pipeline(\n",
        "  [(\"preprocessing\", ct),\n",
        "  (\"ridge\", Ridge())]\n",
        ")\n",
        "\n",
        "alphas = {\n",
        "  'ridge__alpha': [0.001, 0.01, 0.1, 1, 10]\n",
        "}\n",
        "\n",
        "gscv = GridSearchCV(lr_pipeline_1, alphas, cv=5, scoring='r2')\n",
        "\n",
        "gscv_fitted = gscv.fit(X, y)"
      ]
    },
    {
      "cell_type": "code",
      "execution_count": 4,
      "metadata": {
        "colab": {
          "base_uri": "https://localhost:8080/",
          "height": 206
        },
        "id": "5Owg_ReYlzvV",
        "outputId": "7a27f9b5-487b-4f1c-d2e7-1b8560506cbc"
      },
      "outputs": [
        {
          "ename": "NameError",
          "evalue": "name 'gscv_fitted' is not defined",
          "output_type": "error",
          "traceback": [
            "\u001b[1;31m---------------------------------------------------------------------------\u001b[0m\n",
            "\u001b[1;31mNameError\u001b[0m                                 Traceback (most recent call last)\n",
            "Cell \u001b[1;32mIn[4], line 1\u001b[0m\n",
            "\u001b[1;32m----> 1\u001b[0m params_df \u001b[38;5;241m=\u001b[39m pd\u001b[38;5;241m.\u001b[39mDataFrame(gscv_fitted\u001b[38;5;241m.\u001b[39mcv_results_[\u001b[38;5;124m\"\u001b[39m\u001b[38;5;124mparams\u001b[39m\u001b[38;5;124m\"\u001b[39m])\n",
            "\u001b[0;32m      3\u001b[0m results_df \u001b[38;5;241m=\u001b[39m params_df\u001b[38;5;241m.\u001b[39massign(scores\u001b[38;5;241m=\u001b[39mgscv_fitted\u001b[38;5;241m.\u001b[39mcv_results_[\u001b[38;5;124m\"\u001b[39m\u001b[38;5;124mmean_test_score\u001b[39m\u001b[38;5;124m\"\u001b[39m])\n",
            "\u001b[0;32m      5\u001b[0m results_df\u001b[38;5;241m.\u001b[39msort_values(by\u001b[38;5;241m=\u001b[39m\u001b[38;5;124m\"\u001b[39m\u001b[38;5;124mscores\u001b[39m\u001b[38;5;124m\"\u001b[39m, ascending\u001b[38;5;241m=\u001b[39m\u001b[38;5;28;01mFalse\u001b[39;00m)\n",
            "\n",
            "\u001b[1;31mNameError\u001b[0m: name 'gscv_fitted' is not defined"
          ]
        }
      ],
      "source": [
        "params_df = pd.DataFrame(gscv_fitted.cv_results_[\"params\"])\n",
        "\n",
        "results_df = params_df.assign(scores=gscv_fitted.cv_results_[\"mean_test_score\"])\n",
        "\n",
        "results_df.sort_values(by=\"scores\", ascending=False)"
      ]
    },
    {
      "cell_type": "code",
      "execution_count": null,
      "metadata": {
        "id": "fhJwBKPNpcxi"
      },
      "outputs": [],
      "source": [
        "# Finding coefficient of the best ridge regression\n",
        "\n",
        "ct = ColumnTransformer(\n",
        "  [\n",
        "    (\"dummify\",\n",
        "    OneHotEncoder(drop = \"first\", sparse_output = False, handle_unknown='ignore'),\n",
        "    make_column_selector(dtype_include=object)),\n",
        "    (\"standardize\",\n",
        "    StandardScaler(),\n",
        "    make_column_selector(dtype_include=np.number))\n",
        "  ],\n",
        "  remainder = \"passthrough\"\n",
        ")\n",
        "\n",
        "lr_pipeline_1 = Pipeline(\n",
        "  [(\"preprocessing\", ct),\n",
        "  (\"ridge\", Ridge(alpha=10))]\n",
        ")\n",
        "\n",
        "pipeline_fit = lr_pipeline_1.fit(X, y)\n",
        "ridge_coefficients = pipeline_fit.named_steps[\"ridge\"].coef_\n",
        "feature_names_ridge = pipeline_fit.named_steps[\"preprocessing\"].get_feature_names_out()\n",
        "\n",
        "ridge_df = pd.DataFrame({\n",
        "    \"Feature\": feature_names_ridge,\n",
        "    \"Coefficient\": ridge_coefficients,\n",
        "    \"Type\": \"Ridge\"\n",
        "})"
      ]
    },
    {
      "cell_type": "code",
      "execution_count": 5,
      "metadata": {
        "colab": {
          "base_uri": "https://localhost:8080/"
        },
        "id": "wEEtEhJbo1oK",
        "outputId": "f23640c5-d9d3-48a7-89ac-373eb4c34645"
      },
      "outputs": [
        {
          "ename": "NameError",
          "evalue": "name 'X' is not defined",
          "output_type": "error",
          "traceback": [
            "\u001b[1;31m---------------------------------------------------------------------------\u001b[0m\n",
            "\u001b[1;31mNameError\u001b[0m                                 Traceback (most recent call last)\n",
            "Cell \u001b[1;32mIn[5], line 24\u001b[0m\n",
            "\u001b[0;32m     18\u001b[0m alphas \u001b[38;5;241m=\u001b[39m {\n",
            "\u001b[0;32m     19\u001b[0m   \u001b[38;5;124m'\u001b[39m\u001b[38;5;124mlasso__alpha\u001b[39m\u001b[38;5;124m'\u001b[39m: [\u001b[38;5;241m0.001\u001b[39m, \u001b[38;5;241m0.01\u001b[39m, \u001b[38;5;241m0.1\u001b[39m, \u001b[38;5;241m1\u001b[39m, \u001b[38;5;241m10\u001b[39m]\n",
            "\u001b[0;32m     20\u001b[0m }\n",
            "\u001b[0;32m     22\u001b[0m gscv \u001b[38;5;241m=\u001b[39m GridSearchCV(lr_pipeline_1, alphas, cv\u001b[38;5;241m=\u001b[39m\u001b[38;5;241m5\u001b[39m, scoring\u001b[38;5;241m=\u001b[39m\u001b[38;5;124m'\u001b[39m\u001b[38;5;124mr2\u001b[39m\u001b[38;5;124m'\u001b[39m)\n",
            "\u001b[1;32m---> 24\u001b[0m gscv_fitted \u001b[38;5;241m=\u001b[39m gscv\u001b[38;5;241m.\u001b[39mfit(X, y)\n",
            "\n",
            "\u001b[1;31mNameError\u001b[0m: name 'X' is not defined"
          ]
        }
      ],
      "source": [
        "ct = ColumnTransformer(\n",
        "  [\n",
        "    (\"dummify\",\n",
        "    OneHotEncoder(sparse_output = False, handle_unknown='ignore'),\n",
        "    make_column_selector(dtype_include=object)),\n",
        "    (\"standardize\",\n",
        "    StandardScaler(),\n",
        "    make_column_selector(dtype_include=np.number))\n",
        "  ],\n",
        "  remainder = \"passthrough\"\n",
        ")\n",
        "\n",
        "lr_pipeline_1 = Pipeline(\n",
        "  [(\"preprocessing\", ct),\n",
        "  (\"lasso\", Lasso())]\n",
        ")\n",
        "\n",
        "alphas = {\n",
        "  'lasso__alpha': [0.001, 0.01, 0.1, 1, 10]\n",
        "}\n",
        "\n",
        "gscv = GridSearchCV(lr_pipeline_1, alphas, cv=5, scoring='r2')\n",
        "\n",
        "gscv_fitted = gscv.fit(X, y)"
      ]
    },
    {
      "cell_type": "code",
      "execution_count": null,
      "metadata": {
        "colab": {
          "base_uri": "https://localhost:8080/",
          "height": 206
        },
        "id": "FYJrUBc2pS30",
        "outputId": "5de6ae10-2622-4703-f9c9-8398e6c46c07"
      },
      "outputs": [],
      "source": [
        "params_df = pd.DataFrame(gscv_fitted.cv_results_[\"params\"])\n",
        "\n",
        "results_df = params_df.assign(scores=gscv_fitted.cv_results_[\"mean_test_score\"])\n",
        "\n",
        "results_df.sort_values(by=\"scores\", ascending=False)"
      ]
    },
    {
      "cell_type": "code",
      "execution_count": 6,
      "metadata": {
        "id": "-J4aIaK7qUWp"
      },
      "outputs": [
        {
          "ename": "NameError",
          "evalue": "name 'X' is not defined",
          "output_type": "error",
          "traceback": [
            "\u001b[1;31m---------------------------------------------------------------------------\u001b[0m\n",
            "\u001b[1;31mNameError\u001b[0m                                 Traceback (most recent call last)\n",
            "Cell \u001b[1;32mIn[6], line 20\u001b[0m\n",
            "\u001b[0;32m      3\u001b[0m ct \u001b[38;5;241m=\u001b[39m ColumnTransformer(\n",
            "\u001b[0;32m      4\u001b[0m   [\n",
            "\u001b[0;32m      5\u001b[0m     (\u001b[38;5;124m\"\u001b[39m\u001b[38;5;124mdummify\u001b[39m\u001b[38;5;124m\"\u001b[39m,\n",
            "\u001b[1;32m   (...)\u001b[0m\n",
            "\u001b[0;32m     12\u001b[0m   remainder \u001b[38;5;241m=\u001b[39m \u001b[38;5;124m\"\u001b[39m\u001b[38;5;124mpassthrough\u001b[39m\u001b[38;5;124m\"\u001b[39m\n",
            "\u001b[0;32m     13\u001b[0m )\n",
            "\u001b[0;32m     15\u001b[0m lr_pipeline_1 \u001b[38;5;241m=\u001b[39m Pipeline(\n",
            "\u001b[0;32m     16\u001b[0m   [(\u001b[38;5;124m\"\u001b[39m\u001b[38;5;124mpreprocessing\u001b[39m\u001b[38;5;124m\"\u001b[39m, ct),\n",
            "\u001b[0;32m     17\u001b[0m   (\u001b[38;5;124m\"\u001b[39m\u001b[38;5;124mlasso\u001b[39m\u001b[38;5;124m\"\u001b[39m, Lasso(alpha\u001b[38;5;241m=\u001b[39m\u001b[38;5;241m10\u001b[39m))]\n",
            "\u001b[0;32m     18\u001b[0m )\n",
            "\u001b[1;32m---> 20\u001b[0m pipeline_fit \u001b[38;5;241m=\u001b[39m lr_pipeline_1\u001b[38;5;241m.\u001b[39mfit(X, y)\n",
            "\u001b[0;32m     21\u001b[0m lasso_coefficients \u001b[38;5;241m=\u001b[39m pipeline_fit\u001b[38;5;241m.\u001b[39mnamed_steps[\u001b[38;5;124m\"\u001b[39m\u001b[38;5;124mlasso\u001b[39m\u001b[38;5;124m\"\u001b[39m]\u001b[38;5;241m.\u001b[39mcoef_\n",
            "\u001b[0;32m     22\u001b[0m feature_names_lasso \u001b[38;5;241m=\u001b[39m pipeline_fit\u001b[38;5;241m.\u001b[39mnamed_steps[\u001b[38;5;124m\"\u001b[39m\u001b[38;5;124mpreprocessing\u001b[39m\u001b[38;5;124m\"\u001b[39m]\u001b[38;5;241m.\u001b[39mget_feature_names_out()\n",
            "\n",
            "\u001b[1;31mNameError\u001b[0m: name 'X' is not defined"
          ]
        }
      ],
      "source": [
        "# Finding coefficient of the best lasso regression\n",
        "\n",
        "ct = ColumnTransformer(\n",
        "  [\n",
        "    (\"dummify\",\n",
        "    OneHotEncoder(drop = \"first\", sparse_output = False, handle_unknown='ignore'),\n",
        "    make_column_selector(dtype_include=object)),\n",
        "    (\"standardize\",\n",
        "    StandardScaler(),\n",
        "    make_column_selector(dtype_include=np.number))\n",
        "  ],\n",
        "  remainder = \"passthrough\"\n",
        ")\n",
        "\n",
        "lr_pipeline_1 = Pipeline(\n",
        "  [(\"preprocessing\", ct),\n",
        "  (\"lasso\", Lasso(alpha=10))]\n",
        ")\n",
        "\n",
        "pipeline_fit = lr_pipeline_1.fit(X, y)\n",
        "lasso_coefficients = pipeline_fit.named_steps[\"lasso\"].coef_\n",
        "feature_names_lasso = pipeline_fit.named_steps[\"preprocessing\"].get_feature_names_out()\n",
        "\n",
        "lasso_df = pd.DataFrame({\n",
        "    \"Feature\": feature_names_lasso,\n",
        "    \"Coefficient\": lasso_coefficients,\n",
        "    \"Type\": \"Lasso\"\n",
        "})\n"
      ]
    },
    {
      "cell_type": "code",
      "execution_count": null,
      "metadata": {
        "colab": {
          "base_uri": "https://localhost:8080/"
        },
        "id": "jU4Pbva-qjfO",
        "outputId": "1ac40986-a057-4776-a8e3-6e445aebb735"
      },
      "outputs": [],
      "source": [
        "ct = ColumnTransformer(\n",
        "  [\n",
        "    (\"dummify\",\n",
        "    OneHotEncoder(sparse_output = False, handle_unknown='ignore'),\n",
        "    make_column_selector(dtype_include=object)),\n",
        "    (\"standardize\",\n",
        "    StandardScaler(),\n",
        "    make_column_selector(dtype_include=np.number))\n",
        "  ],\n",
        "  remainder = \"passthrough\"\n",
        ")\n",
        "\n",
        "lr_pipeline_1 = Pipeline(\n",
        "  [(\"preprocessing\", ct),\n",
        "  (\"elastic_net\", ElasticNet())]\n",
        ")\n",
        "\n",
        "alphas = {\n",
        "  'elastic_net__l1_ratio': [0.2, 0.4, 0.6, 0.8, 10],\n",
        "  'elastic_net__alpha': [0.001, 0.01, 0.1, 1, 10]\n",
        "}\n",
        "\n",
        "gscv = GridSearchCV(lr_pipeline_1, alphas, cv=5, scoring='r2')\n",
        "\n",
        "gscv_fitted = gscv.fit(X, y)"
      ]
    },
    {
      "cell_type": "code",
      "execution_count": 7,
      "metadata": {
        "colab": {
          "base_uri": "https://localhost:8080/",
          "height": 833
        },
        "id": "nXaecxgYsr6K",
        "outputId": "104f9103-2373-44b6-cf2b-2949f3171e71"
      },
      "outputs": [
        {
          "ename": "NameError",
          "evalue": "name 'gscv_fitted' is not defined",
          "output_type": "error",
          "traceback": [
            "\u001b[1;31m---------------------------------------------------------------------------\u001b[0m\n",
            "\u001b[1;31mNameError\u001b[0m                                 Traceback (most recent call last)\n",
            "Cell \u001b[1;32mIn[7], line 1\u001b[0m\n",
            "\u001b[1;32m----> 1\u001b[0m params_df \u001b[38;5;241m=\u001b[39m pd\u001b[38;5;241m.\u001b[39mDataFrame(gscv_fitted\u001b[38;5;241m.\u001b[39mcv_results_[\u001b[38;5;124m\"\u001b[39m\u001b[38;5;124mparams\u001b[39m\u001b[38;5;124m\"\u001b[39m])\n",
            "\u001b[0;32m      3\u001b[0m results_df \u001b[38;5;241m=\u001b[39m params_df\u001b[38;5;241m.\u001b[39massign(scores\u001b[38;5;241m=\u001b[39mgscv_fitted\u001b[38;5;241m.\u001b[39mcv_results_[\u001b[38;5;124m\"\u001b[39m\u001b[38;5;124mmean_test_score\u001b[39m\u001b[38;5;124m\"\u001b[39m])\n",
            "\u001b[0;32m      5\u001b[0m results_df\u001b[38;5;241m.\u001b[39msort_values(by\u001b[38;5;241m=\u001b[39m\u001b[38;5;124m\"\u001b[39m\u001b[38;5;124mscores\u001b[39m\u001b[38;5;124m\"\u001b[39m, ascending\u001b[38;5;241m=\u001b[39m\u001b[38;5;28;01mFalse\u001b[39;00m)\n",
            "\n",
            "\u001b[1;31mNameError\u001b[0m: name 'gscv_fitted' is not defined"
          ]
        }
      ],
      "source": [
        "params_df = pd.DataFrame(gscv_fitted.cv_results_[\"params\"])\n",
        "\n",
        "results_df = params_df.assign(scores=gscv_fitted.cv_results_[\"mean_test_score\"])\n",
        "\n",
        "results_df.sort_values(by=\"scores\", ascending=False)"
      ]
    },
    {
      "cell_type": "code",
      "execution_count": null,
      "metadata": {
        "colab": {
          "base_uri": "https://localhost:8080/",
          "height": 423
        },
        "id": "Prd5QSAJxe1q",
        "outputId": "2b05dd3f-3ebc-4cd2-bd91-124b4503a839"
      },
      "outputs": [],
      "source": [
        "df_coef = pd.concat([lasso_df, ridge_df])"
      ]
    },
    {
      "cell_type": "code",
      "execution_count": 8,
      "metadata": {
        "colab": {
          "base_uri": "https://localhost:8080/",
          "height": 497
        },
        "id": "a7THk7O_wuZg",
        "outputId": "69fb8682-10aa-4f4d-f305-658c88f967eb"
      },
      "outputs": [
        {
          "ename": "NameError",
          "evalue": "name 'df_coef' is not defined",
          "output_type": "error",
          "traceback": [
            "\u001b[1;31m---------------------------------------------------------------------------\u001b[0m\n",
            "\u001b[1;31mNameError\u001b[0m                                 Traceback (most recent call last)\n",
            "Cell \u001b[1;32mIn[8], line 3\u001b[0m\n",
            "\u001b[0;32m      1\u001b[0m \u001b[38;5;28;01mfrom\u001b[39;00m \u001b[38;5;21;01mplotnine\u001b[39;00m \u001b[38;5;28;01mimport\u001b[39;00m ggplot, geom_bar, aes, labs, theme_classic, position_dodge\n",
            "\u001b[1;32m----> 3\u001b[0m (ggplot(df_coef, aes(x\u001b[38;5;241m=\u001b[39m\u001b[38;5;124m\"\u001b[39m\u001b[38;5;124mFeature\u001b[39m\u001b[38;5;124m\"\u001b[39m, y\u001b[38;5;241m=\u001b[39m\u001b[38;5;124m\"\u001b[39m\u001b[38;5;124mCoefficient\u001b[39m\u001b[38;5;124m\"\u001b[39m, fill\u001b[38;5;241m=\u001b[39m\u001b[38;5;124m\"\u001b[39m\u001b[38;5;124mType\u001b[39m\u001b[38;5;124m\"\u001b[39m)) \u001b[38;5;241m+\u001b[39m\n",
            "\u001b[0;32m      4\u001b[0m  geom_bar(stat\u001b[38;5;241m=\u001b[39m\u001b[38;5;124m\"\u001b[39m\u001b[38;5;124midentity\u001b[39m\u001b[38;5;124m\"\u001b[39m, position\u001b[38;5;241m=\u001b[39mposition_dodge(width\u001b[38;5;241m=\u001b[39m\u001b[38;5;241m0.8\u001b[39m)) \u001b[38;5;241m+\u001b[39m\n",
            "\u001b[0;32m      5\u001b[0m  labs(x\u001b[38;5;241m=\u001b[39m\u001b[38;5;124m\"\u001b[39m\u001b[38;5;124mFeature\u001b[39m\u001b[38;5;124m\"\u001b[39m, y\u001b[38;5;241m=\u001b[39m\u001b[38;5;124m\"\u001b[39m\u001b[38;5;124mCoefficient\u001b[39m\u001b[38;5;124m\"\u001b[39m, title\u001b[38;5;241m=\u001b[39m\u001b[38;5;124m\"\u001b[39m\u001b[38;5;124mComparison of Ridge and Lasso Coefficients\u001b[39m\u001b[38;5;124m\"\u001b[39m) \u001b[38;5;241m+\u001b[39m\n",
            "\u001b[0;32m      6\u001b[0m  theme_classic())\n",
            "\n",
            "\u001b[1;31mNameError\u001b[0m: name 'df_coef' is not defined"
          ]
        }
      ],
      "source": [
        "from plotnine import ggplot, geom_bar, aes, labs, theme_classic, position_dodge\n",
        "\n",
        "(ggplot(df_coef, aes(x=\"Feature\", y=\"Coefficient\", fill=\"Type\")) +\n",
        " geom_bar(stat=\"identity\", position=position_dodge(width=0.8)) +\n",
        " labs(x=\"Feature\", y=\"Coefficient\", title=\"Comparison of Ridge and Lasso Coefficients\") +\n",
        " theme_classic())"
      ]
    }
  ],
  "metadata": {
    "colab": {
      "provenance": []
    },
    "kernelspec": {
      "display_name": "Python 3",
      "name": "python3"
    },
    "language_info": {
      "name": "python"
    }
  },
  "nbformat": 4,
  "nbformat_minor": 0
}
